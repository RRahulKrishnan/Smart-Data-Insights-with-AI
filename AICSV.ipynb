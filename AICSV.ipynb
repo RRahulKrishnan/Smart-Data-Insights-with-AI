{
  "nbformat": 4,
  "nbformat_minor": 0,
  "metadata": {
    "colab": {
      "provenance": []
    },
    "kernelspec": {
      "name": "python3",
      "display_name": "Python 3"
    },
    "language_info": {
      "name": "python"
    }
  },
  "cells": [
    {
      "cell_type": "markdown",
      "source": [
        "#Installing Libraries PandasAI\n"
      ],
      "metadata": {
        "id": "-622_9rYto_6"
      }
    },
    {
      "cell_type": "code",
      "source": [
        "!pip install pandasai"
      ],
      "metadata": {
        "id": "xqw2tjivngfA"
      },
      "execution_count": null,
      "outputs": []
    },
    {
      "cell_type": "markdown",
      "source": [
        "#API key PandasAI"
      ],
      "metadata": {
        "id": "SG7WXjzkq6fO"
      }
    },
    {
      "cell_type": "code",
      "source": [
        "import os\n",
        "os.environ['PANDASAI_API_KEY'] = \"ENTER API KEY\""
      ],
      "metadata": {
        "id": "y3n2ijdqo4qf"
      },
      "execution_count": null,
      "outputs": []
    },
    {
      "cell_type": "markdown",
      "source": [
        "#Upload Dataset"
      ],
      "metadata": {
        "id": "JEzhKo-LqyC0"
      }
    },
    {
      "cell_type": "code",
      "source": [
        "import pandas as pd\n",
        "from pandasai import SmartDataframe\n",
        "from google.colab import files\n",
        "\n",
        "uploaded = files.upload()\n",
        "\n",
        "file_name = list(uploaded.keys())[0]\n",
        "\n",
        "df = pd.read_csv(file_name)\n",
        "\n",
        "print(\"Dataframe:\")\n",
        "print(df)\n"
      ],
      "metadata": {
        "id": "pgfIPHIOosq3"
      },
      "execution_count": null,
      "outputs": []
    },
    {
      "cell_type": "markdown",
      "source": [
        "#Smart Data frame"
      ],
      "metadata": {
        "id": "Dn-IgSL_pmPg"
      }
    },
    {
      "cell_type": "code",
      "source": [
        "sdf = SmartDataframe(df)"
      ],
      "metadata": {
        "id": "jg9HrVkAo1ci"
      },
      "execution_count": null,
      "outputs": []
    },
    {
      "cell_type": "markdown",
      "source": [
        "#AI Bot Prompt"
      ],
      "metadata": {
        "id": "VJTKZeHlp80x"
      }
    },
    {
      "cell_type": "code",
      "source": [
        "sdf.chat(\"chat here\")"
      ],
      "metadata": {
        "id": "mnpc0vuTpDnr"
      },
      "execution_count": null,
      "outputs": []
    }
  ]
}
